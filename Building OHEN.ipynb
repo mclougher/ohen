{
 "cells": [
  {
   "cell_type": "markdown",
   "metadata": {},
   "source": [
    "# Building OHEN"
   ]
  },
  {
   "cell_type": "markdown",
   "metadata": {},
   "source": [
    "This notebook serves to help us build OHEN and details some considerations that went into each expansion."
   ]
  },
  {
   "cell_type": "markdown",
   "metadata": {},
   "source": [
    "<a id='top'></a>\n",
    "\n",
    "# Table of Contents\n",
    "\n",
    "## [Arranging Our Data](#arrange)\n",
    "\n",
    "## [Helper Functions](#helper)\n",
    "\n",
    "\n",
    "## [Food Assertions](#food)\n",
    "\n",
    "### [Class Assertions](#class)\n",
    "[High Protein Foods](#highProtein)<br>\n",
    "[High Magnesium Foods](#highMag)<br>\n",
    "[Saturated Fat Free Foods](#satFat)<br>\n",
    "[Low Cholesterol Foods](#lowChol)<br>\n",
    "[High Fiber Foods](#highFiber)<br>\n",
    "[Low Sugar Foods](#lowSugar)<br>\n",
    "\n",
    "### [Data Property Assertions](#data)\n",
    "[Grams of Protein](#protein)<br>\n",
    "[Vitamin C](#vitc)<br>\n",
    "[Zinc](#zinc)<br>\n",
    "\n",
    "## [Exercise Assertions](#exercise)"
   ]
  },
  {
   "cell_type": "markdown",
   "metadata": {},
   "source": [
    "<a id='arrange'></a>\n",
    "\n",
    "## Arranging Our Data"
   ]
  },
  {
   "cell_type": "code",
   "execution_count": 1,
   "metadata": {},
   "outputs": [],
   "source": [
    "import pandas as pd"
   ]
  },
  {
   "cell_type": "code",
   "execution_count": 2,
   "metadata": {},
   "outputs": [],
   "source": [
    "pd.set_option('display.max_rows', None)\n",
    "pd.set_option('display.max_columns', None)\n",
    "pd.set_option('display.width', None)\n",
    "pd.set_option('display.max_colwidth', None)"
   ]
  },
  {
   "cell_type": "code",
   "execution_count": 3,
   "metadata": {},
   "outputs": [],
   "source": [
    "foods = pd.read_csv(\"fndds_ingredient_nutrient_value.csv\")\n",
    "nutrients = pd.read_csv(\"nutrient.csv\")"
   ]
  },
  {
   "cell_type": "markdown",
   "metadata": {},
   "source": [
    "We have downloaded the above two files from the USDA database located here: https://fdc.nal.usda.gov/download-datasets.html as files in the \"Full Download of All Data Types\" *April 2020 version 2* (CSV – 85M)*.  \n",
    "\n",
    "The file *fndds_ingredient_nutrient_value.csv* contains data of a wide variety of foods with values for 65 different various nutrients.  These values however are only shown in codes, and so we need the *nutrient.csv* file to map each nutrient code to the name of the nutrient."
   ]
  },
  {
   "cell_type": "code",
   "execution_count": 4,
   "metadata": {},
   "outputs": [],
   "source": [
    "nutrientCodes = []\n",
    "\n",
    "for i in range(len(nutrients)):\n",
    "    nutrientCodes.append(nutrients.iloc[i].nutrient_nbr)"
   ]
  },
  {
   "cell_type": "code",
   "execution_count": 5,
   "metadata": {},
   "outputs": [],
   "source": [
    "nutrientCodes = foods[\"Nutrient code\"][0:65] # nutrient codes repeat in this same pattern throughout rest of data\n",
    "nutrientList = []\n",
    "\n",
    "for i,code in enumerate(nutrientCodes):\n",
    "    nutrientName = nutrients[nutrients.nutrient_nbr==code].iloc[0][\"name\"]\n",
    "    foods.loc[i, \"Nutrient name\"] = nutrientName\n",
    "    nutrientList.append(nutrientName)"
   ]
  },
  {
   "cell_type": "code",
   "execution_count": 6,
   "metadata": {},
   "outputs": [
    {
     "data": {
      "text/html": [
       "<div>\n",
       "<style scoped>\n",
       "    .dataframe tbody tr th:only-of-type {\n",
       "        vertical-align: middle;\n",
       "    }\n",
       "\n",
       "    .dataframe tbody tr th {\n",
       "        vertical-align: top;\n",
       "    }\n",
       "\n",
       "    .dataframe thead th {\n",
       "        text-align: right;\n",
       "    }\n",
       "</style>\n",
       "<table border=\"1\" class=\"dataframe\">\n",
       "  <thead>\n",
       "    <tr style=\"text-align: right;\">\n",
       "      <th></th>\n",
       "      <th>Ingredient code</th>\n",
       "      <th>SR description</th>\n",
       "      <th>Nutrient code</th>\n",
       "      <th>Nutrient value</th>\n",
       "      <th>Nutrient value source</th>\n",
       "      <th>SR 28 derivation code</th>\n",
       "      <th>SR 28 AddMod year</th>\n",
       "      <th>Start date</th>\n",
       "      <th>End date</th>\n",
       "      <th>Nutrient name</th>\n",
       "    </tr>\n",
       "  </thead>\n",
       "  <tbody>\n",
       "    <tr>\n",
       "      <th>0</th>\n",
       "      <td>1001</td>\n",
       "      <td>Butter, salted</td>\n",
       "      <td>203</td>\n",
       "      <td>0.85</td>\n",
       "      <td>SR28</td>\n",
       "      <td>NaN</td>\n",
       "      <td>1976</td>\n",
       "      <td>2015-01-01 00:00:00.0</td>\n",
       "      <td>2016-12-31 00:00:00.0</td>\n",
       "      <td>Protein</td>\n",
       "    </tr>\n",
       "    <tr>\n",
       "      <th>1</th>\n",
       "      <td>1001</td>\n",
       "      <td>Butter, salted</td>\n",
       "      <td>204</td>\n",
       "      <td>81.11</td>\n",
       "      <td>SR28</td>\n",
       "      <td>NaN</td>\n",
       "      <td>1976</td>\n",
       "      <td>2015-01-01 00:00:00.0</td>\n",
       "      <td>2016-12-31 00:00:00.0</td>\n",
       "      <td>Total lipid (fat)</td>\n",
       "    </tr>\n",
       "    <tr>\n",
       "      <th>2</th>\n",
       "      <td>1001</td>\n",
       "      <td>Butter, salted</td>\n",
       "      <td>205</td>\n",
       "      <td>0.06</td>\n",
       "      <td>SR28</td>\n",
       "      <td>NC</td>\n",
       "      <td>1976</td>\n",
       "      <td>2015-01-01 00:00:00.0</td>\n",
       "      <td>2016-12-31 00:00:00.0</td>\n",
       "      <td>Carbohydrate, by difference</td>\n",
       "    </tr>\n",
       "    <tr>\n",
       "      <th>3</th>\n",
       "      <td>1001</td>\n",
       "      <td>Butter, salted</td>\n",
       "      <td>208</td>\n",
       "      <td>717.00</td>\n",
       "      <td>SR28</td>\n",
       "      <td>NC</td>\n",
       "      <td>2010</td>\n",
       "      <td>2015-01-01 00:00:00.0</td>\n",
       "      <td>2016-12-31 00:00:00.0</td>\n",
       "      <td>Energy</td>\n",
       "    </tr>\n",
       "    <tr>\n",
       "      <th>4</th>\n",
       "      <td>1001</td>\n",
       "      <td>Butter, salted</td>\n",
       "      <td>221</td>\n",
       "      <td>0.00</td>\n",
       "      <td>SR28</td>\n",
       "      <td>NaN</td>\n",
       "      <td>1985</td>\n",
       "      <td>2015-01-01 00:00:00.0</td>\n",
       "      <td>2016-12-31 00:00:00.0</td>\n",
       "      <td>Alcohol, ethyl</td>\n",
       "    </tr>\n",
       "  </tbody>\n",
       "</table>\n",
       "</div>"
      ],
      "text/plain": [
       "   Ingredient code  SR description  Nutrient code  Nutrient value  \\\n",
       "0             1001  Butter, salted            203            0.85   \n",
       "1             1001  Butter, salted            204           81.11   \n",
       "2             1001  Butter, salted            205            0.06   \n",
       "3             1001  Butter, salted            208          717.00   \n",
       "4             1001  Butter, salted            221            0.00   \n",
       "\n",
       "  Nutrient value source SR 28 derivation code  SR 28 AddMod year  \\\n",
       "0                  SR28                   NaN               1976   \n",
       "1                  SR28                   NaN               1976   \n",
       "2                  SR28                    NC               1976   \n",
       "3                  SR28                    NC               2010   \n",
       "4                  SR28                   NaN               1985   \n",
       "\n",
       "              Start date               End date                Nutrient name  \n",
       "0  2015-01-01 00:00:00.0  2016-12-31 00:00:00.0                      Protein  \n",
       "1  2015-01-01 00:00:00.0  2016-12-31 00:00:00.0            Total lipid (fat)  \n",
       "2  2015-01-01 00:00:00.0  2016-12-31 00:00:00.0  Carbohydrate, by difference  \n",
       "3  2015-01-01 00:00:00.0  2016-12-31 00:00:00.0                       Energy  \n",
       "4  2015-01-01 00:00:00.0  2016-12-31 00:00:00.0               Alcohol, ethyl  "
      ]
     },
     "execution_count": 6,
     "metadata": {},
     "output_type": "execute_result"
    }
   ],
   "source": [
    "foods.head()"
   ]
  },
  {
   "cell_type": "markdown",
   "metadata": {},
   "source": [
    "Our data originally looks like the above.  We see that \"Butter, Salted\", for example, has 0.85 Nutrient Value of Nutrient Code 203.  By looking at \"nutrient.csv\" we decipher that this means that \"Butter, Salted\" has 0.85 grams of protein.  All values of our foods are shown in 100 gram amounts.  We also see that \"Butter, Salted\" has 81.11 grams of Total fat per 100 grams.  We now transform the data into a more usable form:"
   ]
  },
  {
   "cell_type": "code",
   "execution_count": 7,
   "metadata": {},
   "outputs": [
    {
     "data": {
      "text/html": [
       "<div>\n",
       "<style scoped>\n",
       "    .dataframe tbody tr th:only-of-type {\n",
       "        vertical-align: middle;\n",
       "    }\n",
       "\n",
       "    .dataframe tbody tr th {\n",
       "        vertical-align: top;\n",
       "    }\n",
       "\n",
       "    .dataframe thead th {\n",
       "        text-align: right;\n",
       "    }\n",
       "</style>\n",
       "<table border=\"1\" class=\"dataframe\">\n",
       "  <thead>\n",
       "    <tr style=\"text-align: right;\">\n",
       "      <th></th>\n",
       "      <th>Food</th>\n",
       "      <th>Protein</th>\n",
       "      <th>Total lipid (fat)</th>\n",
       "      <th>Carbohydrate, by difference</th>\n",
       "      <th>Energy</th>\n",
       "      <th>Alcohol, ethyl</th>\n",
       "      <th>Water</th>\n",
       "      <th>Caffeine</th>\n",
       "      <th>Theobromine</th>\n",
       "      <th>Sugars, total including NLEA</th>\n",
       "      <th>Fiber, total dietary</th>\n",
       "      <th>Calcium, Ca</th>\n",
       "      <th>Iron, Fe</th>\n",
       "      <th>Magnesium, Mg</th>\n",
       "      <th>Phosphorus, P</th>\n",
       "      <th>Potassium, K</th>\n",
       "      <th>Sodium, Na</th>\n",
       "      <th>Zinc, Zn</th>\n",
       "      <th>Copper, Cu</th>\n",
       "      <th>Selenium, Se</th>\n",
       "      <th>Retinol</th>\n",
       "      <th>Vitamin A, RAE</th>\n",
       "      <th>Carotene, beta</th>\n",
       "      <th>Carotene, alpha</th>\n",
       "      <th>Vitamin E (alpha-tocopherol)</th>\n",
       "      <th>Vitamin D (D2 + D3)</th>\n",
       "      <th>Cryptoxanthin, beta</th>\n",
       "      <th>Lycopene</th>\n",
       "      <th>Lutein + zeaxanthin</th>\n",
       "      <th>Vitamin C, total ascorbic acid</th>\n",
       "      <th>Thiamin</th>\n",
       "      <th>Riboflavin</th>\n",
       "      <th>Niacin</th>\n",
       "      <th>Vitamin B-6</th>\n",
       "      <th>Folate, total</th>\n",
       "      <th>Vitamin B-12</th>\n",
       "      <th>Choline, total</th>\n",
       "      <th>Vitamin K (phylloquinone)</th>\n",
       "      <th>Folic acid</th>\n",
       "      <th>Folate, food</th>\n",
       "      <th>Folate, DFE</th>\n",
       "      <th>Vitamin E, added</th>\n",
       "      <th>Vitamin B-12, added</th>\n",
       "      <th>Cholesterol</th>\n",
       "      <th>Fatty acids, total saturated</th>\n",
       "      <th>4:0</th>\n",
       "      <th>6:0</th>\n",
       "      <th>8:0</th>\n",
       "      <th>10:0</th>\n",
       "      <th>12:0</th>\n",
       "      <th>14:0</th>\n",
       "      <th>16:0</th>\n",
       "      <th>18:0</th>\n",
       "      <th>18:1</th>\n",
       "      <th>18:2</th>\n",
       "      <th>18:3</th>\n",
       "      <th>20:4</th>\n",
       "      <th>22:6 n-3 (DHA)</th>\n",
       "      <th>16:1</th>\n",
       "      <th>18:4</th>\n",
       "      <th>20:1</th>\n",
       "      <th>20:5 n-3 (EPA)</th>\n",
       "      <th>22:1</th>\n",
       "      <th>22:5 n-3 (DPA)</th>\n",
       "      <th>Fatty acids, total monounsaturated</th>\n",
       "      <th>Fatty acids, total polyunsaturated</th>\n",
       "    </tr>\n",
       "  </thead>\n",
       "  <tbody>\n",
       "    <tr>\n",
       "      <th>0</th>\n",
       "      <td>Butter, salted</td>\n",
       "      <td>0.85</td>\n",
       "      <td>81.11</td>\n",
       "      <td>0.06</td>\n",
       "      <td>717.0</td>\n",
       "      <td>0.0</td>\n",
       "      <td>15.87</td>\n",
       "      <td>0.0</td>\n",
       "      <td>0.0</td>\n",
       "      <td>0.06</td>\n",
       "      <td>0.0</td>\n",
       "      <td>24.0</td>\n",
       "      <td>0.02</td>\n",
       "      <td>2.0</td>\n",
       "      <td>24.0</td>\n",
       "      <td>24.0</td>\n",
       "      <td>643.0</td>\n",
       "      <td>0.09</td>\n",
       "      <td>0.000</td>\n",
       "      <td>1.0</td>\n",
       "      <td>671.0</td>\n",
       "      <td>684.0</td>\n",
       "      <td>158.0</td>\n",
       "      <td>0.0</td>\n",
       "      <td>2.32</td>\n",
       "      <td>0.0</td>\n",
       "      <td>0.0</td>\n",
       "      <td>0.0</td>\n",
       "      <td>0.0</td>\n",
       "      <td>0.0</td>\n",
       "      <td>0.005</td>\n",
       "      <td>0.034</td>\n",
       "      <td>0.042</td>\n",
       "      <td>0.003</td>\n",
       "      <td>3.0</td>\n",
       "      <td>0.17</td>\n",
       "      <td>18.8</td>\n",
       "      <td>7.0</td>\n",
       "      <td>0.0</td>\n",
       "      <td>3.0</td>\n",
       "      <td>3.0</td>\n",
       "      <td>0.0</td>\n",
       "      <td>0.0</td>\n",
       "      <td>215.0</td>\n",
       "      <td>51.368</td>\n",
       "      <td>3.226</td>\n",
       "      <td>2.007</td>\n",
       "      <td>1.190</td>\n",
       "      <td>2.529</td>\n",
       "      <td>2.587</td>\n",
       "      <td>7.436</td>\n",
       "      <td>21.697</td>\n",
       "      <td>9.999</td>\n",
       "      <td>19.961</td>\n",
       "      <td>2.728</td>\n",
       "      <td>0.315</td>\n",
       "      <td>0.000</td>\n",
       "      <td>0.000</td>\n",
       "      <td>0.961</td>\n",
       "      <td>0.000</td>\n",
       "      <td>0.100</td>\n",
       "      <td>0.000</td>\n",
       "      <td>0.000</td>\n",
       "      <td>0.000</td>\n",
       "      <td>21.021</td>\n",
       "      <td>3.043</td>\n",
       "    </tr>\n",
       "    <tr>\n",
       "      <th>1</th>\n",
       "      <td>Butter, whipped, with salt</td>\n",
       "      <td>0.49</td>\n",
       "      <td>78.30</td>\n",
       "      <td>2.87</td>\n",
       "      <td>718.0</td>\n",
       "      <td>0.0</td>\n",
       "      <td>16.72</td>\n",
       "      <td>0.0</td>\n",
       "      <td>0.0</td>\n",
       "      <td>0.06</td>\n",
       "      <td>0.0</td>\n",
       "      <td>23.0</td>\n",
       "      <td>0.05</td>\n",
       "      <td>1.0</td>\n",
       "      <td>24.0</td>\n",
       "      <td>41.0</td>\n",
       "      <td>583.0</td>\n",
       "      <td>0.05</td>\n",
       "      <td>0.010</td>\n",
       "      <td>0.0</td>\n",
       "      <td>671.0</td>\n",
       "      <td>683.0</td>\n",
       "      <td>135.0</td>\n",
       "      <td>1.0</td>\n",
       "      <td>1.37</td>\n",
       "      <td>0.0</td>\n",
       "      <td>6.0</td>\n",
       "      <td>0.0</td>\n",
       "      <td>13.0</td>\n",
       "      <td>0.0</td>\n",
       "      <td>0.007</td>\n",
       "      <td>0.064</td>\n",
       "      <td>0.022</td>\n",
       "      <td>0.008</td>\n",
       "      <td>4.0</td>\n",
       "      <td>0.07</td>\n",
       "      <td>18.8</td>\n",
       "      <td>4.6</td>\n",
       "      <td>0.0</td>\n",
       "      <td>4.0</td>\n",
       "      <td>4.0</td>\n",
       "      <td>0.0</td>\n",
       "      <td>0.0</td>\n",
       "      <td>225.0</td>\n",
       "      <td>45.390</td>\n",
       "      <td>1.635</td>\n",
       "      <td>1.373</td>\n",
       "      <td>0.858</td>\n",
       "      <td>2.039</td>\n",
       "      <td>2.354</td>\n",
       "      <td>7.515</td>\n",
       "      <td>20.531</td>\n",
       "      <td>7.649</td>\n",
       "      <td>17.370</td>\n",
       "      <td>2.713</td>\n",
       "      <td>0.298</td>\n",
       "      <td>0.119</td>\n",
       "      <td>0.003</td>\n",
       "      <td>1.417</td>\n",
       "      <td>0.003</td>\n",
       "      <td>0.147</td>\n",
       "      <td>0.022</td>\n",
       "      <td>0.005</td>\n",
       "      <td>0.045</td>\n",
       "      <td>19.874</td>\n",
       "      <td>3.331</td>\n",
       "    </tr>\n",
       "    <tr>\n",
       "      <th>2</th>\n",
       "      <td>Butter oil, anhydrous</td>\n",
       "      <td>0.28</td>\n",
       "      <td>99.48</td>\n",
       "      <td>0.00</td>\n",
       "      <td>876.0</td>\n",
       "      <td>0.0</td>\n",
       "      <td>0.24</td>\n",
       "      <td>0.0</td>\n",
       "      <td>0.0</td>\n",
       "      <td>0.00</td>\n",
       "      <td>0.0</td>\n",
       "      <td>4.0</td>\n",
       "      <td>0.00</td>\n",
       "      <td>0.0</td>\n",
       "      <td>3.0</td>\n",
       "      <td>5.0</td>\n",
       "      <td>2.0</td>\n",
       "      <td>0.01</td>\n",
       "      <td>0.001</td>\n",
       "      <td>0.0</td>\n",
       "      <td>824.0</td>\n",
       "      <td>840.0</td>\n",
       "      <td>193.0</td>\n",
       "      <td>0.0</td>\n",
       "      <td>2.80</td>\n",
       "      <td>0.0</td>\n",
       "      <td>0.0</td>\n",
       "      <td>0.0</td>\n",
       "      <td>0.0</td>\n",
       "      <td>0.0</td>\n",
       "      <td>0.001</td>\n",
       "      <td>0.005</td>\n",
       "      <td>0.003</td>\n",
       "      <td>0.001</td>\n",
       "      <td>0.0</td>\n",
       "      <td>0.01</td>\n",
       "      <td>22.3</td>\n",
       "      <td>8.6</td>\n",
       "      <td>0.0</td>\n",
       "      <td>0.0</td>\n",
       "      <td>0.0</td>\n",
       "      <td>0.0</td>\n",
       "      <td>0.0</td>\n",
       "      <td>256.0</td>\n",
       "      <td>61.924</td>\n",
       "      <td>3.226</td>\n",
       "      <td>1.910</td>\n",
       "      <td>1.112</td>\n",
       "      <td>2.495</td>\n",
       "      <td>2.793</td>\n",
       "      <td>10.005</td>\n",
       "      <td>26.166</td>\n",
       "      <td>12.056</td>\n",
       "      <td>25.026</td>\n",
       "      <td>2.247</td>\n",
       "      <td>1.447</td>\n",
       "      <td>0.000</td>\n",
       "      <td>0.000</td>\n",
       "      <td>2.228</td>\n",
       "      <td>0.000</td>\n",
       "      <td>0.000</td>\n",
       "      <td>0.000</td>\n",
       "      <td>0.000</td>\n",
       "      <td>0.000</td>\n",
       "      <td>28.732</td>\n",
       "      <td>3.694</td>\n",
       "    </tr>\n",
       "    <tr>\n",
       "      <th>3</th>\n",
       "      <td>Cheese, blue</td>\n",
       "      <td>21.40</td>\n",
       "      <td>28.74</td>\n",
       "      <td>2.34</td>\n",
       "      <td>353.0</td>\n",
       "      <td>0.0</td>\n",
       "      <td>42.41</td>\n",
       "      <td>0.0</td>\n",
       "      <td>0.0</td>\n",
       "      <td>0.50</td>\n",
       "      <td>0.0</td>\n",
       "      <td>528.0</td>\n",
       "      <td>0.31</td>\n",
       "      <td>23.0</td>\n",
       "      <td>387.0</td>\n",
       "      <td>256.0</td>\n",
       "      <td>1146.0</td>\n",
       "      <td>2.66</td>\n",
       "      <td>0.040</td>\n",
       "      <td>14.5</td>\n",
       "      <td>192.0</td>\n",
       "      <td>198.0</td>\n",
       "      <td>74.0</td>\n",
       "      <td>0.0</td>\n",
       "      <td>0.25</td>\n",
       "      <td>0.5</td>\n",
       "      <td>0.0</td>\n",
       "      <td>0.0</td>\n",
       "      <td>0.0</td>\n",
       "      <td>0.0</td>\n",
       "      <td>0.029</td>\n",
       "      <td>0.382</td>\n",
       "      <td>1.016</td>\n",
       "      <td>0.166</td>\n",
       "      <td>36.0</td>\n",
       "      <td>1.22</td>\n",
       "      <td>15.4</td>\n",
       "      <td>2.4</td>\n",
       "      <td>0.0</td>\n",
       "      <td>36.0</td>\n",
       "      <td>36.0</td>\n",
       "      <td>0.0</td>\n",
       "      <td>0.0</td>\n",
       "      <td>75.0</td>\n",
       "      <td>18.669</td>\n",
       "      <td>0.658</td>\n",
       "      <td>0.361</td>\n",
       "      <td>0.247</td>\n",
       "      <td>0.601</td>\n",
       "      <td>0.491</td>\n",
       "      <td>3.301</td>\n",
       "      <td>9.153</td>\n",
       "      <td>3.235</td>\n",
       "      <td>6.622</td>\n",
       "      <td>0.536</td>\n",
       "      <td>0.264</td>\n",
       "      <td>0.000</td>\n",
       "      <td>0.000</td>\n",
       "      <td>0.816</td>\n",
       "      <td>0.000</td>\n",
       "      <td>0.000</td>\n",
       "      <td>0.000</td>\n",
       "      <td>0.000</td>\n",
       "      <td>0.000</td>\n",
       "      <td>7.778</td>\n",
       "      <td>0.800</td>\n",
       "    </tr>\n",
       "    <tr>\n",
       "      <th>4</th>\n",
       "      <td>Cheese, brick</td>\n",
       "      <td>23.24</td>\n",
       "      <td>29.68</td>\n",
       "      <td>2.79</td>\n",
       "      <td>371.0</td>\n",
       "      <td>0.0</td>\n",
       "      <td>41.11</td>\n",
       "      <td>0.0</td>\n",
       "      <td>0.0</td>\n",
       "      <td>0.51</td>\n",
       "      <td>0.0</td>\n",
       "      <td>674.0</td>\n",
       "      <td>0.43</td>\n",
       "      <td>24.0</td>\n",
       "      <td>451.0</td>\n",
       "      <td>136.0</td>\n",
       "      <td>560.0</td>\n",
       "      <td>2.60</td>\n",
       "      <td>0.024</td>\n",
       "      <td>14.5</td>\n",
       "      <td>286.0</td>\n",
       "      <td>292.0</td>\n",
       "      <td>76.0</td>\n",
       "      <td>0.0</td>\n",
       "      <td>0.26</td>\n",
       "      <td>0.5</td>\n",
       "      <td>0.0</td>\n",
       "      <td>0.0</td>\n",
       "      <td>0.0</td>\n",
       "      <td>0.0</td>\n",
       "      <td>0.014</td>\n",
       "      <td>0.351</td>\n",
       "      <td>0.118</td>\n",
       "      <td>0.065</td>\n",
       "      <td>20.0</td>\n",
       "      <td>1.26</td>\n",
       "      <td>15.4</td>\n",
       "      <td>2.5</td>\n",
       "      <td>0.0</td>\n",
       "      <td>20.0</td>\n",
       "      <td>20.0</td>\n",
       "      <td>0.0</td>\n",
       "      <td>0.0</td>\n",
       "      <td>94.0</td>\n",
       "      <td>18.764</td>\n",
       "      <td>0.914</td>\n",
       "      <td>0.373</td>\n",
       "      <td>0.299</td>\n",
       "      <td>0.585</td>\n",
       "      <td>0.482</td>\n",
       "      <td>3.227</td>\n",
       "      <td>8.655</td>\n",
       "      <td>3.455</td>\n",
       "      <td>7.401</td>\n",
       "      <td>0.491</td>\n",
       "      <td>0.293</td>\n",
       "      <td>0.000</td>\n",
       "      <td>0.000</td>\n",
       "      <td>0.817</td>\n",
       "      <td>0.000</td>\n",
       "      <td>0.000</td>\n",
       "      <td>0.000</td>\n",
       "      <td>0.000</td>\n",
       "      <td>0.000</td>\n",
       "      <td>8.598</td>\n",
       "      <td>0.784</td>\n",
       "    </tr>\n",
       "  </tbody>\n",
       "</table>\n",
       "</div>"
      ],
      "text/plain": [
       "                         Food  Protein  Total lipid (fat)  \\\n",
       "0              Butter, salted     0.85              81.11   \n",
       "1  Butter, whipped, with salt     0.49              78.30   \n",
       "2       Butter oil, anhydrous     0.28              99.48   \n",
       "3                Cheese, blue    21.40              28.74   \n",
       "4               Cheese, brick    23.24              29.68   \n",
       "\n",
       "   Carbohydrate, by difference  Energy  Alcohol, ethyl  Water  Caffeine  \\\n",
       "0                         0.06   717.0             0.0  15.87       0.0   \n",
       "1                         2.87   718.0             0.0  16.72       0.0   \n",
       "2                         0.00   876.0             0.0   0.24       0.0   \n",
       "3                         2.34   353.0             0.0  42.41       0.0   \n",
       "4                         2.79   371.0             0.0  41.11       0.0   \n",
       "\n",
       "   Theobromine  Sugars, total including NLEA  Fiber, total dietary  \\\n",
       "0          0.0                          0.06                   0.0   \n",
       "1          0.0                          0.06                   0.0   \n",
       "2          0.0                          0.00                   0.0   \n",
       "3          0.0                          0.50                   0.0   \n",
       "4          0.0                          0.51                   0.0   \n",
       "\n",
       "   Calcium, Ca  Iron, Fe  Magnesium, Mg  Phosphorus, P  Potassium, K  \\\n",
       "0         24.0      0.02            2.0           24.0          24.0   \n",
       "1         23.0      0.05            1.0           24.0          41.0   \n",
       "2          4.0      0.00            0.0            3.0           5.0   \n",
       "3        528.0      0.31           23.0          387.0         256.0   \n",
       "4        674.0      0.43           24.0          451.0         136.0   \n",
       "\n",
       "   Sodium, Na  Zinc, Zn  Copper, Cu  Selenium, Se  Retinol  Vitamin A, RAE  \\\n",
       "0       643.0      0.09       0.000           1.0    671.0           684.0   \n",
       "1       583.0      0.05       0.010           0.0    671.0           683.0   \n",
       "2         2.0      0.01       0.001           0.0    824.0           840.0   \n",
       "3      1146.0      2.66       0.040          14.5    192.0           198.0   \n",
       "4       560.0      2.60       0.024          14.5    286.0           292.0   \n",
       "\n",
       "   Carotene, beta  Carotene, alpha  Vitamin E (alpha-tocopherol)  \\\n",
       "0           158.0              0.0                          2.32   \n",
       "1           135.0              1.0                          1.37   \n",
       "2           193.0              0.0                          2.80   \n",
       "3            74.0              0.0                          0.25   \n",
       "4            76.0              0.0                          0.26   \n",
       "\n",
       "   Vitamin D (D2 + D3)  Cryptoxanthin, beta  Lycopene  Lutein + zeaxanthin  \\\n",
       "0                  0.0                  0.0       0.0                  0.0   \n",
       "1                  0.0                  6.0       0.0                 13.0   \n",
       "2                  0.0                  0.0       0.0                  0.0   \n",
       "3                  0.5                  0.0       0.0                  0.0   \n",
       "4                  0.5                  0.0       0.0                  0.0   \n",
       "\n",
       "   Vitamin C, total ascorbic acid  Thiamin  Riboflavin  Niacin  Vitamin B-6  \\\n",
       "0                             0.0    0.005       0.034   0.042        0.003   \n",
       "1                             0.0    0.007       0.064   0.022        0.008   \n",
       "2                             0.0    0.001       0.005   0.003        0.001   \n",
       "3                             0.0    0.029       0.382   1.016        0.166   \n",
       "4                             0.0    0.014       0.351   0.118        0.065   \n",
       "\n",
       "   Folate, total  Vitamin B-12  Choline, total  Vitamin K (phylloquinone)  \\\n",
       "0            3.0          0.17            18.8                        7.0   \n",
       "1            4.0          0.07            18.8                        4.6   \n",
       "2            0.0          0.01            22.3                        8.6   \n",
       "3           36.0          1.22            15.4                        2.4   \n",
       "4           20.0          1.26            15.4                        2.5   \n",
       "\n",
       "   Folic acid  Folate, food  Folate, DFE  Vitamin E, added  \\\n",
       "0         0.0           3.0          3.0               0.0   \n",
       "1         0.0           4.0          4.0               0.0   \n",
       "2         0.0           0.0          0.0               0.0   \n",
       "3         0.0          36.0         36.0               0.0   \n",
       "4         0.0          20.0         20.0               0.0   \n",
       "\n",
       "   Vitamin B-12, added  Cholesterol  Fatty acids, total saturated    4:0  \\\n",
       "0                  0.0        215.0                        51.368  3.226   \n",
       "1                  0.0        225.0                        45.390  1.635   \n",
       "2                  0.0        256.0                        61.924  3.226   \n",
       "3                  0.0         75.0                        18.669  0.658   \n",
       "4                  0.0         94.0                        18.764  0.914   \n",
       "\n",
       "     6:0    8:0   10:0   12:0    14:0    16:0    18:0    18:1   18:2   18:3  \\\n",
       "0  2.007  1.190  2.529  2.587   7.436  21.697   9.999  19.961  2.728  0.315   \n",
       "1  1.373  0.858  2.039  2.354   7.515  20.531   7.649  17.370  2.713  0.298   \n",
       "2  1.910  1.112  2.495  2.793  10.005  26.166  12.056  25.026  2.247  1.447   \n",
       "3  0.361  0.247  0.601  0.491   3.301   9.153   3.235   6.622  0.536  0.264   \n",
       "4  0.373  0.299  0.585  0.482   3.227   8.655   3.455   7.401  0.491  0.293   \n",
       "\n",
       "    20:4  22:6 n-3 (DHA)   16:1   18:4   20:1  20:5 n-3 (EPA)   22:1  \\\n",
       "0  0.000           0.000  0.961  0.000  0.100           0.000  0.000   \n",
       "1  0.119           0.003  1.417  0.003  0.147           0.022  0.005   \n",
       "2  0.000           0.000  2.228  0.000  0.000           0.000  0.000   \n",
       "3  0.000           0.000  0.816  0.000  0.000           0.000  0.000   \n",
       "4  0.000           0.000  0.817  0.000  0.000           0.000  0.000   \n",
       "\n",
       "   22:5 n-3 (DPA)  Fatty acids, total monounsaturated  \\\n",
       "0           0.000                              21.021   \n",
       "1           0.045                              19.874   \n",
       "2           0.000                              28.732   \n",
       "3           0.000                               7.778   \n",
       "4           0.000                               8.598   \n",
       "\n",
       "   Fatty acids, total polyunsaturated  \n",
       "0                               3.043  \n",
       "1                               3.331  \n",
       "2                               3.694  \n",
       "3                               0.800  \n",
       "4                               0.784  "
      ]
     },
     "execution_count": 7,
     "metadata": {},
     "output_type": "execute_result"
    }
   ],
   "source": [
    "columns = nutrientList.copy()\n",
    "columns.insert(0,\"Food\")\n",
    "\n",
    "ohen = pd.DataFrame(columns = columns)\n",
    "\n",
    "for i in range(0, len(foods), len(nutrientCodes)):\n",
    "    nutrientValues = []\n",
    "    foodName = foods.loc[i,\"SR description\"]\n",
    "    \n",
    "    for ind in range(len(nutrientCodes)):\n",
    "        nutrientValue = foods.loc[ind+i,\"Nutrient value\"]\n",
    "        nutrientValues.append(nutrientValue)\n",
    "        \n",
    "    rowValues = nutrientValues.copy()\n",
    "        \n",
    "    rowValues.insert(0,foodName)\n",
    "        \n",
    "    newRow = pd.DataFrame([rowValues], columns = columns)\n",
    "    ohen = ohen.append(newRow, ignore_index=True)\n",
    "\n",
    "ohen.head()"
   ]
  },
  {
   "cell_type": "code",
   "execution_count": 8,
   "metadata": {},
   "outputs": [
    {
     "data": {
      "text/plain": [
       "2730"
      ]
     },
     "execution_count": 8,
     "metadata": {},
     "output_type": "execute_result"
    }
   ],
   "source": [
    "len(ohen)"
   ]
  },
  {
   "cell_type": "markdown",
   "metadata": {},
   "source": [
    "Now we can easily search and filter all 2730 types of our foods according to various definitions set forth by the USDA, or by our own choosing when no formal definition exists, (such as a \"high magnesium\" food).  The following blocks of code detail considerations that went into creating each list.  These lists of foods are then formatted into an OWL-appropriate syntax and saved in a text file in the \"Foods\" folder.  From there, we simply copy/paste each file directly into our ohen.OWL file from a text editor.  We have commented areas where we have copy/pasted as: <br>\n",
    "\n",
    "\\<!--MC Start *some food category* --> <br> *list of foods with class assertions and named individuals* <br>\n",
    "\\<!--MC End *some food category*--> \n",
    "\n",
    "to easily track what modifications we have made."
   ]
  },
  {
   "cell_type": "markdown",
   "metadata": {},
   "source": [
    "[Back to Top](#top)"
   ]
  },
  {
   "cell_type": "markdown",
   "metadata": {},
   "source": [
    "<a id='helper'></a>\n",
    "\n",
    "## Helper Functions"
   ]
  },
  {
   "cell_type": "code",
   "execution_count": 9,
   "metadata": {},
   "outputs": [],
   "source": [
    "import os\n",
    "\n",
    "def writeFile(fileName, foodsList, IRI, assertionType=\"Class\", dataFeature=\"Protein\"):\n",
    "    fileName = \"Foods/\" + fileName + '.txt'\n",
    "    if os.path.exists(fileName): #deleting file here is useful only for debugging purposes\n",
    "        os.remove(fileName)\n",
    "\n",
    "    with open(fileName, 'w') as file:\n",
    "        for food in foodsList:\n",
    "            foodAssertion = food\n",
    "            foodAssertion = foodAssertion.replace(\"%\",\"percent\")\n",
    "            foodAssertion = foodAssertion.replace(\" \",\"\")\n",
    "            foodAssertion = foodAssertion.replace(\",\",\"-\")\n",
    "            foodAssertion = foodAssertion.replace(\";\",\"_\")\n",
    "            foodAssertion = foodAssertion.replace('\"',\"inch\")\n",
    "            foodAssertion = foodAssertion.replace(')',\"-\")\n",
    "            foodAssertion = foodAssertion.replace('(',\"-\")\n",
    "            foodAssertion = foodAssertion.replace(':',\"_\")\n",
    "            foodAssertion = foodAssertion.replace('&',\"_and_\")\n",
    "            if assertionType==\"Class\":\n",
    "                file.write('\\t<ClassAssertion>\\n\\t\\t<Class IRI=\"{}\"/>\\n\\t\\t<NamedIndividual IRI=\"#{}\"/>\\n\\t</ClassAssertion>\\n'.format(IRI, foodAssertion))\n",
    "            if assertionType==\"DataProperty\":\n",
    "                dataValue = ohen[ohen.Food==food][dataFeature].values[0]\n",
    "                file.write('\\t<DataPropertyAssertion>\\n\\t\\t<DataProperty IRI=\"{}\"/>\\n\\t\\t<NamedIndividual IRI=\"#{}\"/>\\n\\t\\t<Literal datatypeIRI=\"http://www.w3.org/2001/XMLSchema#decimal\">{}</Literal>\\n\\t</DataPropertyAssertion>\\n'.format(IRI, foodAssertion, dataValue))"
   ]
  },
  {
   "cell_type": "code",
   "execution_count": 10,
   "metadata": {},
   "outputs": [],
   "source": [
    "def foodsByQuantile(feature, topQuantile):\n",
    "    '''\n",
    "        Find all foods with \"feature\" value greater than or equal to the given topQuantile value\n",
    "    '''\n",
    "    value = ohen[feature].quantile(1-topQuantile)\n",
    "    return list(ohen[ohen[feature]>=value].sort_values(by=\"Food\").Food)"
   ]
  },
  {
   "cell_type": "code",
   "execution_count": 11,
   "metadata": {},
   "outputs": [],
   "source": [
    "def foodsLessThanAmount(feature, value):\n",
    "    '''\n",
    "        Find all foods with \"feature\" value less than or equal to the given value \n",
    "    '''\n",
    "    return list(ohen[ohen[feature]<=value].sort_values(by=\"Food\").Food)"
   ]
  },
  {
   "cell_type": "code",
   "execution_count": 12,
   "metadata": {},
   "outputs": [],
   "source": [
    "def foodsGreaterThanAmount(feature, value):\n",
    "    '''\n",
    "        Find all foods with \"feature\" value greater than or equal to the given value \n",
    "    '''\n",
    "    return list(ohen[ohen[feature]>=value].sort_values(by=\"Food\").Food)"
   ]
  },
  {
   "cell_type": "markdown",
   "metadata": {},
   "source": [
    "[Back to Top](#top)"
   ]
  },
  {
   "cell_type": "markdown",
   "metadata": {},
   "source": [
    "<a id='food'></a>\n",
    "\n",
    "## Food Assertions"
   ]
  },
  {
   "cell_type": "markdown",
   "metadata": {},
   "source": [
    "This section will explain how we added various food assertions to OHEN."
   ]
  },
  {
   "cell_type": "markdown",
   "metadata": {},
   "source": [
    "<a id='class'></a>\n",
    "\n",
    "### Class Assertions"
   ]
  },
  {
   "cell_type": "markdown",
   "metadata": {},
   "source": [
    "We begin with various class assertions.  Any considerations for why a food was (not) included is detailed in the comments of each code block."
   ]
  },
  {
   "cell_type": "markdown",
   "metadata": {},
   "source": [
    "<a id='highProtein'></a>\n",
    "\n",
    "#### High Protein Foods"
   ]
  },
  {
   "cell_type": "code",
   "execution_count": 13,
   "metadata": {},
   "outputs": [],
   "source": [
    "'''\n",
    "definition: \"A claim that a food is high in protein, and any claim likely to have the same meaning for the consumer, \n",
    "may only be made where at least 20 % of the energy value of the food is provided by protein \n",
    "[REGULATION (EC) No 1924/2006 Corrigendum 2007-01-18].\"\n",
    "'''\n",
    "highProteinFoods = []\n",
    "for i in range(len(ohen)):\n",
    "    if ohen.loc[i,\"Protein\"]*4 >= ohen.loc[i,\"Energy\"] * 0.2:\n",
    "        highProteinFoods.append(ohen.loc[i,\"Food\"])\n",
    "highProteinFoods;"
   ]
  },
  {
   "cell_type": "code",
   "execution_count": 14,
   "metadata": {},
   "outputs": [],
   "source": [
    "writeFile('highProteinFoods', highProteinFoods, 'http://purl.obolibrary.org/obo/FOODON_03510203')"
   ]
  },
  {
   "cell_type": "markdown",
   "metadata": {},
   "source": [
    "<a id='highMag'></a>\n",
    "#### High Magnesium Foods"
   ]
  },
  {
   "cell_type": "code",
   "execution_count": 15,
   "metadata": {},
   "outputs": [],
   "source": [
    "'''\n",
    "Here we have arbitrarily decided that \"high magnesium foods\" should be foods with MG values in the top 10% of our foods\n",
    "'''\n",
    "\n",
    "highMagnesiumFoods = foodsByQuantile(\"Magnesium, Mg\", 0.1)\n",
    "writeFile(\"highMagnesiumFoods\", highMagnesiumFoods, \"http://www.semanticweb.org/mclou/ontologies/2020/6/ohen3#highMagnesium\")"
   ]
  },
  {
   "cell_type": "markdown",
   "metadata": {},
   "source": [
    "<a id='satFat'></a>\n",
    "\n",
    "#### Saturated Fat Free Foods"
   ]
  },
  {
   "cell_type": "code",
   "execution_count": 16,
   "metadata": {},
   "outputs": [],
   "source": [
    "'''\n",
    "definition \"A claim that a food does not contain saturated fat, and any claim likely to have the same meaning for the consumer, \n",
    "may only be made where the sum of saturated fat and trans-fatty acids does not exceed 0,1 g of saturated fat per 100 g \n",
    "or 100 ml [REGULATION (EC) No 1924/2006 Corrigendum 2007-01-18].\n",
    "'''\n",
    "\n",
    "saturatedFatFreeFoods = foodsLessThanAmount(\"Fatty acids, total saturated\", 0.1)\n",
    "writeFile(\"saturatedFatFreeFoods\", saturatedFatFreeFoods, \"http://purl.obolibrary.org/obo/FOODON_03510179\")"
   ]
  },
  {
   "cell_type": "markdown",
   "metadata": {},
   "source": [
    "<a id='lowChol'></a>\n",
    "\n",
    "#### Low Cholesterol Foods"
   ]
  },
  {
   "cell_type": "code",
   "execution_count": 17,
   "metadata": {},
   "outputs": [],
   "source": [
    "'''\n",
    "definition \"Food having 20 miligrams or less cholesterol per amount customarily consumed \n",
    "(and per 50 grams of food if the amount customarily consumed is small). \n",
    "Meals and main dishes contain 20 milligrams or less cholesterol per 100 grams of food. \n",
    "If the food qualifies by special processing and total fat exceeds 13 grams per amount and labeled serving, \n",
    "the amount of cholesterol must be 'substantially less' (25%) than in a comparable food with significant market share \n",
    "(5% of market).\"\n",
    "'''\n",
    "lowCholesterolFoods = foodsLessThanAmount(\"Cholesterol\", 20)\n",
    "writeFile(\"lowCholesterolFoods\", lowCholesterolFoods, \"http://purl.obolibrary.org/obo/FOODON_03510043\")"
   ]
  },
  {
   "cell_type": "markdown",
   "metadata": {},
   "source": [
    "<a id='highFiber'></a>\n",
    "\n",
    "#### High Fiber Foods"
   ]
  },
  {
   "cell_type": "code",
   "execution_count": 18,
   "metadata": {},
   "outputs": [],
   "source": [
    "'''\n",
    "definition \"A claim that a food is high in fibre, and any claim likely to have the same meaning for the consumer, \n",
    "may only be made where the product contains at least 6 g of fibre per 100 g or at least 3 g of fibre per 100 kcal \n",
    "[REGULATION (EC) No 1924/2006 Corrigendum 2007-01-18].\n",
    "\n",
    "*For simplicity, we simply check if there are fewer than 6g fiber per 100g\n",
    "'''\n",
    "highFiberFoods = foodsGreaterThanAmount(\"Fiber, total dietary\", 6)\n",
    "writeFile(\"highFiberFoods\", highFiberFoods, \"http://purl.obolibrary.org/obo/FOODON_03510048\")"
   ]
  },
  {
   "cell_type": "markdown",
   "metadata": {},
   "source": [
    "<a id='lowSugar'></a>\n",
    "\n",
    "#### Low Sugar Foods"
   ]
  },
  {
   "cell_type": "code",
   "execution_count": 19,
   "metadata": {},
   "outputs": [],
   "source": [
    "'''\n",
    "definition \"A claim that a food is low in sugars, and any claim likely to have the same meaning for the consumer, \n",
    "may only be made where the product contains no more than 5 g of sugars per 100 g for solids or 2,5 g of sugars per \n",
    "100 ml for liquids [REGULATION (EC) No 1924/2006 Corrigendum 2007-01-18].\n",
    "Not defined in U.S. Federal Register; no basis for a recommended intake.\"\n",
    "\n",
    "*We do not have a foolproof way to classify solids vs liquids for our foods, so we shall choose '2.5' as our\n",
    "threshold to be conservative\n",
    "'''\n",
    "lowSugarFoods = foodsLessThanAmount(\"Sugars, total including NLEA\", 2.5)\n",
    "writeFile(\"lowSugarFoods\", lowSugarFoods, \"http://purl.obolibrary.org/obo/FOODON_03510062\")"
   ]
  },
  {
   "cell_type": "markdown",
   "metadata": {},
   "source": [
    "[Back to Top](#top)"
   ]
  },
  {
   "cell_type": "markdown",
   "metadata": {},
   "source": [
    "<a id='data'></a>\n",
    "\n",
    "### Data Property Assertions"
   ]
  },
  {
   "cell_type": "markdown",
   "metadata": {},
   "source": [
    "For the sake of minimizing the stress load on our Protege reasoner, we will only include the data properties of some values for selected classes of foods.  Ideally, all food instances would have complete information."
   ]
  },
  {
   "cell_type": "markdown",
   "metadata": {},
   "source": [
    "<a id='protein'></a>\n",
    "\n",
    "#### Grams of Protein"
   ]
  },
  {
   "cell_type": "code",
   "execution_count": 20,
   "metadata": {},
   "outputs": [],
   "source": [
    "'''\n",
    "We choose to include the actual amount of protein that is contained in a high protein food.\n",
    "The actual amount of protein one intakes is more important than the percentage of protein a food is, as OPE classifies \n",
    "a high protein food only by percentage.  This allows some foods such as \"Arugula, raw\" to be included which may be misleading \n",
    "as arugula is only a high protein food by percentage, not actual amount.\n",
    "'''\n",
    "writeFile('highProteinFoodsGrams', highProteinFoods, '#protein_Grams', assertionType=\"DataProperty\")"
   ]
  },
  {
   "cell_type": "markdown",
   "metadata": {},
   "source": [
    "<a id='vitc'></a>\n",
    "\n",
    "#### Vitamin C"
   ]
  },
  {
   "cell_type": "code",
   "execution_count": 21,
   "metadata": {},
   "outputs": [],
   "source": [
    "'''\n",
    "Vitamin C is typically found among certain plant foods, so the most relevant class from those we have defined above would \n",
    "likely be \"high fiber foods\".\n",
    "'''\n",
    "writeFile('highFiberVitaminCMG', highFiberFoods, '#vitaminC_MG', assertionType=\"DataProperty\", dataFeature=\"Vitamin C, total ascorbic acid\")"
   ]
  },
  {
   "cell_type": "markdown",
   "metadata": {},
   "source": [
    "<a id='zinc'></a>\n",
    "\n",
    "#### Zinc"
   ]
  },
  {
   "cell_type": "code",
   "execution_count": 22,
   "metadata": {},
   "outputs": [],
   "source": [
    "'''\n",
    "Zinc is prevalent in many animal products, and so we shall check \"high protein foods\".\n",
    "'''\n",
    "writeFile('highProteinZinc', highProteinFoods, '#zinc_MG', assertionType=\"DataProperty\", dataFeature=\"Zinc, Zn\")"
   ]
  },
  {
   "cell_type": "markdown",
   "metadata": {},
   "source": [
    "[Back to Top](#top)"
   ]
  },
  {
   "cell_type": "markdown",
   "metadata": {},
   "source": [
    "<a id='exercise'></a>\n",
    "\n",
    "### Exercise Assertions"
   ]
  },
  {
   "cell_type": "markdown",
   "metadata": {},
   "source": [
    "We now want to add some assertions about the major muscle groups in the body.  Our Ontology of Physical Exercises, (OPE), has defined many muscle groups as classes.  In building OHEN, we want to create specific instances of each of the major muscle groups. "
   ]
  },
  {
   "cell_type": "code",
   "execution_count": 23,
   "metadata": {},
   "outputs": [],
   "source": [
    "muscleClassName = '<Class IRI=\"http://ncicb.nci.nih.gov/xml/owl/EVS/Thesaurus.owl#Muscle\"/>'\n",
    "majorMuscleGroups = []\n",
    "import re\n",
    "\n",
    "with open('ohenTest.owl', 'r', encoding=\"utf8\") as ohenOWLFile:\n",
    "    lines = ohenOWLFile.readlines()\n",
    "    for i, line in enumerate(lines):\n",
    "        if muscleClassName in line:\n",
    "            if 'Declaration' not in lines[i-1] and 'SubClassOf' not in lines[i-1]: # these are now all major muscle groups\n",
    "                majorMuscleGroups.append(re.search('#(.*)\"', lines[i-1]).group(1))"
   ]
  },
  {
   "cell_type": "markdown",
   "metadata": {},
   "source": [
    "For example, \"Triceps\" is subclass of \"Muscle\" in OPE, and we shall choose to represent a user's triceps group by creating instances of the triceps muscle with \"userMuscle-\" as a prefix.  Though we only have one user as of now, it would be simple to extend this concept to create various instances of each muscle group for multiple users.  In this way, we could have more detailed information such as some metric to measure the strength of that user's muscle, or whether or not that user had an injury in that muscle group.   "
   ]
  },
  {
   "cell_type": "code",
   "execution_count": 24,
   "metadata": {},
   "outputs": [
    {
     "data": {
      "text/plain": [
       "103"
      ]
     },
     "execution_count": 24,
     "metadata": {},
     "output_type": "execute_result"
    }
   ],
   "source": [
    "len(majorMuscleGroups)"
   ]
  },
  {
   "cell_type": "markdown",
   "metadata": {},
   "source": [
    "We see that we have 103 major muscle groups as defined by OPE.  In the following code we create the user's instances of each muscle group.  For the purpose of the example in the paper, we assert that the user has an injury in his triceps muscle. "
   ]
  },
  {
   "cell_type": "code",
   "execution_count": 25,
   "metadata": {},
   "outputs": [],
   "source": [
    "fileName = \"Muscle Groups/majorMuscleGroups.txt\"\n",
    "if os.path.exists(fileName): #deleting file here is useful only for debugging purposes\n",
    "    os.remove(fileName)\n",
    "\n",
    "with open(fileName, 'w') as file:\n",
    "    for muscle in majorMuscleGroups:\n",
    "        classIRI = \"http://ncicb.nci.nih.gov/xml/owl/EVS/Thesaurus.owl#\" + muscle\n",
    "        muscleName = 'userMuscle-' + muscle\n",
    "        dataValue = 'false'\n",
    "        dataIRI = 'isInjured'\n",
    "        if muscle == 'Triceps': # for our example, the user only has a triceps injury\n",
    "            dataValue = 'true'\n",
    "        file.write('\\t<ClassAssertion>\\n\\t\\t<Class IRI=\"{}\"/>\\n\\t\\t<NamedIndividual IRI=\"#{}\"/>\\n\\t</ClassAssertion>\\n'.format(classIRI, muscleName))\n",
    "        file.write('\\t<DataPropertyAssertion>\\n\\t\\t<DataProperty IRI=\"{}\"/>\\n\\t\\t<NamedIndividual IRI=\"#{}\"/>\\n\\t\\t<Literal datatypeIRI=\"http://www.w3.org/2001/XMLSchema#boolean\">{}</Literal>\\n\\t</DataPropertyAssertion>\\n'.format(dataIRI, muscleName, dataValue))"
   ]
  },
  {
   "cell_type": "markdown",
   "metadata": {},
   "source": [
    "We have written this text file to the \"Muscle Groups\" folder.  From here, it is a simple matter of copying/pasting as before into the *ohenTest.owl* file as before \n",
    "\n",
    "\\<!--MC Start Major Muscle Groups --> <br> *Class and Data Assertions* <br>\n",
    "\\<!--MC End Major Muscle Groups--> "
   ]
  },
  {
   "cell_type": "markdown",
   "metadata": {},
   "source": [
    "These text edits can be found in the *ohenTest.owl* file.  Note *ohenFinal.owl* does not directly contain these edits.  When saving and exporting the file in Protege comments are deleted and the manual assertions we have made will be ordered differently than how they were pasted into the raw text representation."
   ]
  },
  {
   "cell_type": "markdown",
   "metadata": {},
   "source": [
    "[Back to Top](#top)"
   ]
  }
 ],
 "metadata": {
  "kernelspec": {
   "display_name": "Python 3",
   "language": "python",
   "name": "python3"
  },
  "language_info": {
   "codemirror_mode": {
    "name": "ipython",
    "version": 3
   },
   "file_extension": ".py",
   "mimetype": "text/x-python",
   "name": "python",
   "nbconvert_exporter": "python",
   "pygments_lexer": "ipython3",
   "version": "3.7.3"
  }
 },
 "nbformat": 4,
 "nbformat_minor": 4
}
